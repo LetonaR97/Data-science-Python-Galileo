{
 "cells": [
  {
   "cell_type": "markdown",
   "id": "b1b4a714",
   "metadata": {},
   "source": [
    "# Investigacion GitHub"
   ]
  },
  {
   "cell_type": "markdown",
   "id": "32cf8710",
   "metadata": {},
   "source": [
    "## ¿Qué es Git?"
   ]
  },
  {
   "cell_type": "markdown",
   "id": "c3a7c727",
   "metadata": {},
   "source": [
    "Git es un sistema de control de versiones distribuido, creado por Linus Torvalds en 2005, diseñado para manejar todo, desde proyectos pequeños a grandes con velocidad y eficiencia. Git facilita el seguimiento de cambios en archivos y coordinación de trabajo entre varios colaboradores en un repositorio de código, lo que lo hace esencial para el desarrollo de software. Al ser un sistema distribuido, cada copia del código de un desarrollador también es un repositorio que puede contener el historial completo de todos los cambios. Además, Git está diseñado teniendo en cuenta el rendimiento, la seguridad y la flexibilidad, lo que lo hace el sistema de control de versiones más popular para proyectos comerciales y de código abierto"
   ]
  },
  {
   "cell_type": "markdown",
   "id": "cc39fda2",
   "metadata": {},
   "source": [
    "## ¿Qué es GitHub?"
   ]
  },
  {
   "cell_type": "markdown",
   "id": "dd62a1d5",
   "metadata": {},
   "source": [
    "GitHub es una plataforma de hospedaje de código que utiliza Git para el control de versiones, proporcionando herramientas adicionales para el desarrollo colaborativo de software. Permite a los desarrolladores almacenar sus proyectos, colaborar con otros y seguir el progreso del trabajo a través de la interfaz web. GitHub facilita la colaboración en proyectos al permitir que los usuarios propongan cambios, discutan estos cambios en solicitudes de pull y revisen el código antes de integrarlo al proyecto principal. Es una herramienta esencial para el trabajo en equipo, ofreciendo una amplia gama de funcionalidades para mejorar el flujo de trabajo de desarrollo de software y mantener a los equipos sincronizados"
   ]
  },
  {
   "cell_type": "markdown",
   "id": "2368699d",
   "metadata": {},
   "source": [
    "## ¿Qué son las Magic Cells?"
   ]
  },
  {
   "cell_type": "markdown",
   "id": "e66be883",
   "metadata": {},
   "source": [
    "Las Magic Cells en Jupyter Notebooks son comandos especiales que comienzan con % para comandos de línea o %% para comandos de celda, que permiten al usuario ejecutar diversas funciones internas del notebook que no son parte del código Python estándar. Estos comandos pueden realizar desde la visualización de gráficos en línea hasta la carga de código externo y la ejecución de scripts dentro del propio notebook."
   ]
  }
 ],
 "metadata": {
  "kernelspec": {
   "display_name": "Python 3 (ipykernel)",
   "language": "python",
   "name": "python3"
  },
  "language_info": {
   "codemirror_mode": {
    "name": "ipython",
    "version": 3
   },
   "file_extension": ".py",
   "mimetype": "text/x-python",
   "name": "python",
   "nbconvert_exporter": "python",
   "pygments_lexer": "ipython3",
   "version": "3.11.3"
  }
 },
 "nbformat": 4,
 "nbformat_minor": 5
}
