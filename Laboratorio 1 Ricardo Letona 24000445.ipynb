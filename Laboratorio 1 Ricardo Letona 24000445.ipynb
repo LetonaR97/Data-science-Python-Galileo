{
 "cells": [
  {
   "cell_type": "markdown",
   "id": "03feeec2",
   "metadata": {},
   "source": [
    "# Ejercicio 1"
   ]
  },
  {
   "cell_type": "code",
   "execution_count": 1,
   "id": "a50dd235",
   "metadata": {},
   "outputs": [
    {
     "name": "stdout",
     "output_type": "stream",
     "text": [
      "Horas: 0, Minutos: 45, Segundos: 43\n",
      "Horas: 1, Minutos: 37, Segundos: 51\n"
     ]
    }
   ],
   "source": [
    "def convertir_segundos(segundos):\n",
    "    try:\n",
    "        segundos = int(segundos)\n",
    "        horas = segundos // 3600\n",
    "        segundos_restantes = segundos % 3600\n",
    "        minutos = segundos_restantes // 60\n",
    "        segundos_final = segundos_restantes % 60\n",
    "        print(f\"Horas: {horas}, Minutos: {minutos}, Segundos: {segundos_final}\")\n",
    "    except ValueError:\n",
    "        print(\"Por favor, ingrese un número entero válido.\")\n",
    "convertir_segundos(2743)\n",
    "convertir_segundos(5871)"
   ]
  },
  {
   "cell_type": "markdown",
   "id": "f45224ae",
   "metadata": {},
   "source": [
    "# Ejercicio 2"
   ]
  },
  {
   "cell_type": "code",
   "execution_count": 4,
   "id": "26084016",
   "metadata": {},
   "outputs": [
    {
     "name": "stdout",
     "output_type": "stream",
     "text": [
      "*\n",
      "**\n",
      "***\n",
      "****\n",
      "*****\n",
      "******\n",
      "*******\n",
      "********\n",
      "*********\n",
      "**********\n",
      "\n",
      "         *\n",
      "        **\n",
      "       ***\n",
      "      ****\n",
      "     *****\n",
      "    ******\n",
      "   *******\n",
      "  ********\n",
      " *********\n",
      "**********\n",
      "\n",
      "**********\n",
      " *********\n",
      "  ********\n",
      "   *******\n",
      "    ******\n",
      "     *****\n",
      "      ****\n",
      "       ***\n",
      "        **\n",
      "         *\n",
      "\n",
      "**********\n",
      "*********\n",
      "********\n",
      "*******\n",
      "******\n",
      "*****\n",
      "****\n",
      "***\n",
      "**\n",
      "*\n"
     ]
    }
   ],
   "source": [
    "def imprimir_patrones(n, simbolo):\n",
    "    if not (1 <= n <= 20):\n",
    "        return \"El número debe estar entre 1 y 20.\"\n",
    "    \n",
    "    for i in range(n):\n",
    "        print(simbolo * (i + 1))\n",
    "    print()\n",
    "    \n",
    "    for i in range(n):\n",
    "        print(' ' * (n - i - 1) + simbolo * (i + 1))\n",
    "    print()\n",
    "    \n",
    "    for i in range(n, 0, -1):\n",
    "        print(' ' * (n - i) + simbolo * i)\n",
    "    print()\n",
    "    \n",
    "    for i in range(n, 0, -1):\n",
    "        print(simbolo * i)\n",
    "\n",
    "imprimir_patrones(10, '*')"
   ]
  },
  {
   "cell_type": "markdown",
   "id": "da8b9e2f",
   "metadata": {},
   "source": [
    "# Ejercicio 3"
   ]
  },
  {
   "cell_type": "code",
   "execution_count": 5,
   "id": "6840add5",
   "metadata": {},
   "outputs": [
    {
     "name": "stdout",
     "output_type": "stream",
     "text": [
      "Ingrese el día de nacimiento: 24\n",
      "Ingrese el mes de nacimiento: 6\n",
      "Ingrese el año de nacimiento: 1997\n",
      "Tienes 26 años, 8 meses y 12 días de edad.\n"
     ]
    }
   ],
   "source": [
    "from datetime import datetime\n",
    "\n",
    "def calcular_edad():\n",
    "    dia = int(input(\"Ingrese el día de nacimiento: \"))\n",
    "    mes = int(input(\"Ingrese el mes de nacimiento: \"))\n",
    "    año = int(input(\"Ingrese el año de nacimiento: \"))\n",
    "\n",
    "    fecha_nacimiento = datetime(año, mes, dia)\n",
    "    fecha_actual = datetime.now()\n",
    "\n",
    "    diferencia = fecha_actual - fecha_nacimiento\n",
    "\n",
    "    años = diferencia.days // 365\n",
    "    dias_restantes = diferencia.days % 365\n",
    "    meses = dias_restantes // 30\n",
    "    dias = dias_restantes % 30\n",
    "\n",
    "    print(f\"Tienes {años} años, {meses} meses y {dias} días de edad.\")\n",
    "\n",
    "calcular_edad()"
   ]
  },
  {
   "cell_type": "markdown",
   "id": "8f304ab4",
   "metadata": {},
   "source": [
    "# Ejercicio 4"
   ]
  },
  {
   "cell_type": "code",
   "execution_count": 6,
   "id": "2c16dd51",
   "metadata": {},
   "outputs": [
    {
     "data": {
      "text/plain": [
       "'102040570'"
      ]
     },
     "execution_count": 6,
     "metadata": {},
     "output_type": "execute_result"
    }
   ],
   "source": [
    "def tupla_a_string(tupla):\n",
    "    return ''.join(str(elemento) for elemento in tupla)\n",
    "\n",
    "entrada = (10, 20, 40, 5, 70)\n",
    "salida = tupla_a_string(entrada)\n",
    "salida"
   ]
  },
  {
   "cell_type": "markdown",
   "id": "d9dfa9d5",
   "metadata": {},
   "source": [
    "# Ejercicio 5"
   ]
  },
  {
   "cell_type": "code",
   "execution_count": 7,
   "id": "b06d8630",
   "metadata": {},
   "outputs": [
    {
     "data": {
      "text/plain": [
       "[('X',), ('a', 'b'), ('a', 'b', 'c'), ('d',)]"
      ]
     },
     "execution_count": 7,
     "metadata": {},
     "output_type": "execute_result"
    }
   ],
   "source": [
    "def eliminar_tuplas_vacias(lista_de_tuplas):\n",
    "    return [tupla for tupla in lista_de_tuplas if tupla]\n",
    "\n",
    "entrada = [(), (), ('X',), ('a', 'b'), ('a', 'b', 'c'), ('d',)]\n",
    "resultado = eliminar_tuplas_vacias(entrada)\n",
    "resultado"
   ]
  },
  {
   "cell_type": "markdown",
   "id": "a9ac9247",
   "metadata": {},
   "source": [
    "# Ejercicio 6"
   ]
  },
  {
   "cell_type": "code",
   "execution_count": 8,
   "id": "93333f22",
   "metadata": {},
   "outputs": [
    {
     "data": {
      "text/plain": [
       "(10.5, 44, 58)"
      ]
     },
     "execution_count": 8,
     "metadata": {},
     "output_type": "execute_result"
    }
   ],
   "source": [
    "def promedio_tuplas(tuplas):\n",
    "    promedios = [sum(t) / len(t) for t in tuplas if t]\n",
    "    promedios = [int(p) if p.is_integer() else p for p in promedios]\n",
    "    return tuple(promedios)\n",
    "\n",
    "entrada = ((10, 10, 10, 12), (30, 45, 56, 45), (81, 80, 39, 32))\n",
    "resultado = promedio_tuplas(entrada)\n",
    "resultado"
   ]
  },
  {
   "cell_type": "markdown",
   "id": "648eb570",
   "metadata": {},
   "source": [
    "# Ejercicio 7"
   ]
  },
  {
   "cell_type": "code",
   "execution_count": 11,
   "id": "f751891b",
   "metadata": {},
   "outputs": [
    {
     "name": "stdout",
     "output_type": "stream",
     "text": [
      "Factura 1 agregada con un costo de 1000.\n",
      "Facturas pendientes: {'1': 1000}\n",
      "Total cobrado: 0\n",
      "Total pendiente de cobro: 1000\n",
      "Factura 2 agregada con un costo de 500.\n",
      "Facturas pendientes: {'1': 1000, '2': 500}\n",
      "Total cobrado: 0\n",
      "Total pendiente de cobro: 1500\n",
      "Factura 1 pagada.\n",
      "Facturas pendientes: {'2': 500}\n",
      "Total cobrado: 1000\n",
      "Total pendiente de cobro: 500\n",
      "Facturas pendientes: {'2': 500}\n",
      "Total cobrado: 1000\n",
      "Total pendiente de cobro: 500\n"
     ]
    }
   ],
   "source": [
    "def gestionar_facturas():\n",
    "    facturas = {}\n",
    "    total_cobrado = 0\n",
    "    \n",
    "    acciones = [(\"añadir\", \"1\", 1000), (\"añadir\", \"2\", 500), (\"pagar\", \"1\"), (\"terminar\")]\n",
    "    \n",
    "    for accion in acciones:\n",
    "        if accion[0] == \"añadir\":\n",
    "            num_factura, costo = accion[1], accion[2]\n",
    "            facturas[num_factura] = costo\n",
    "            print(f\"Factura {num_factura} agregada con un costo de {costo}.\")\n",
    "        elif accion[0] == \"pagar\":\n",
    "            num_factura = accion[1]\n",
    "            if num_factura in facturas:\n",
    "                total_cobrado += facturas.pop(num_factura)\n",
    "                print(f\"Factura {num_factura} pagada.\")\n",
    "            else:\n",
    "                print(f\"La factura {num_factura} no existe.\")\n",
    "        elif accion[0] == \"terminar\":\n",
    "            break\n",
    "\n",
    "        print(\"Facturas pendientes:\", facturas)\n",
    "        print(\"Total cobrado:\", total_cobrado)\n",
    "        print(\"Total pendiente de cobro:\", sum(facturas.values()))\n",
    "\n",
    "gestionar_facturas()"
   ]
  },
  {
   "cell_type": "markdown",
   "id": "ed9f739e",
   "metadata": {},
   "source": [
    "# Ejercicio 8"
   ]
  },
  {
   "cell_type": "code",
   "execution_count": 16,
   "id": "ba2afaf1",
   "metadata": {},
   "outputs": [
    {
     "data": {
      "text/plain": [
       "(0.019230769230769232,\n",
       " 0.01849112426035503,\n",
       " 0.2692307692307692,\n",
       " 0.2692307692307692,\n",
       " True)"
      ]
     },
     "execution_count": 16,
     "metadata": {},
     "output_type": "execute_result"
    }
   ],
   "source": [
    "import random\n",
    "\n",
    "def crear_baraja():\n",
    "    tipos = ['T', 'C', 'P', 'E']\n",
    "    numeros = ['{:02d}'.format(num) for num in range(1, 14)]\n",
    "    baraja = {'{}{}'.format(tipo, numero) for tipo in tipos for numero in numeros}\n",
    "    return baraja\n",
    "\n",
    "def crear_subconjuntos(baraja, tamano1, tamano2):\n",
    "    lista_baraja = list(baraja)\n",
    "    subconjunto1 = set(random.sample(lista_baraja, tamano1))\n",
    "    subconjunto2 = set(random.sample(lista_baraja, tamano2))\n",
    "    return subconjunto1, subconjunto2\n",
    "\n",
    "def calcular_probabilidades(subconjunto1, subconjunto2, baraja):\n",
    "    interseccion = subconjunto1 & subconjunto2\n",
    "    prob_interseccion = len(interseccion) / len(baraja)\n",
    "    prob_interseccion_independiente = (len(subconjunto1) / len(baraja)) * (len(subconjunto2) / len(baraja))\n",
    "    \n",
    "    union = subconjunto1 | subconjunto2\n",
    "    prob_union = len(union) / len(baraja)\n",
    "    prob_union_teorica = (len(subconjunto1) + len(subconjunto2) - len(interseccion)) / len(baraja)\n",
    "    \n",
    "    return prob_interseccion, prob_interseccion_independiente, prob_union, prob_union_teorica\n",
    "\n",
    "baraja = crear_baraja()\n",
    "subconjunto1, subconjunto2 = crear_subconjuntos(baraja, 10, 5)\n",
    "prob_interseccion, prob_interseccion_independiente, prob_union, prob_union_teorica = calcular_probabilidades(subconjunto1, subconjunto2, baraja)\n",
    "\n",
    "prob_interseccion, prob_interseccion_independiente, prob_union, prob_union_teorica, prob_union == prob_union_teorica"
   ]
  }
 ],
 "metadata": {
  "kernelspec": {
   "display_name": "Python 3 (ipykernel)",
   "language": "python",
   "name": "python3"
  },
  "language_info": {
   "codemirror_mode": {
    "name": "ipython",
    "version": 3
   },
   "file_extension": ".py",
   "mimetype": "text/x-python",
   "name": "python",
   "nbconvert_exporter": "python",
   "pygments_lexer": "ipython3",
   "version": "3.11.3"
  }
 },
 "nbformat": 4,
 "nbformat_minor": 5
}
